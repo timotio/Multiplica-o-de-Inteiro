{
  "nbformat": 4,
  "nbformat_minor": 0,
  "metadata": {
    "colab": {
      "provenance": [],
      "authorship_tag": "ABX9TyOkA9PCFa4cIrQtW3PEK0Ia",
      "include_colab_link": true
    },
    "kernelspec": {
      "name": "python3",
      "display_name": "Python 3"
    },
    "language_info": {
      "name": "python"
    }
  },
  "cells": [
    {
      "cell_type": "markdown",
      "metadata": {
        "id": "view-in-github",
        "colab_type": "text"
      },
      "source": [
        "<a href=\"https://colab.research.google.com/github/timotio/Multiplica-o-de-Inteiro/blob/main/Multiplica%C3%A7%C3%A3o_de_Inteiro.ipynb\" target=\"_parent\"><img src=\"https://colab.research.google.com/assets/colab-badge.svg\" alt=\"Open In Colab\"/></a>"
      ]
    },
    {
      "cell_type": "markdown",
      "source": [
        "# **IMPLEMENTAÇÃO DE ALGORITMOS DE MULTIPLICAÇÃO DE INTEIRO**\n",
        "\n",
        "A multiplicação de inteiros é uma operação fundamental em computação e matemática, com aplicações em diversas áreas, desde a criptografia até a computação gráfica. Existe várias abordagens para implementar algoritmos de multiplicação de inteiros, cada uma com suas próprias caraterísticas de eficiência e complexidade.\n",
        "\n",
        "Neste relatório, apresentamos duas implementações de algoritmos de multiplicação de inteiros:\n",
        "\n",
        "1.   Algoritmo Convencional (A multiplicação do Ensino Fundamental): é baseada no método tradicional de multiplicar números inteiros. Nesse método, você multiplica cada algarismo do multiplicador pelo multiplicando, começando pelo algarismo da direita para a esquerda, e depois soma os resultados.\n",
        "2.   Algoritmo Divide-and-Conquer: O método de DC é uma abordagem que divide os números em partes menores, multiplica essas partes e depois combina os resultados.\n",
        "\n",
        "O objetivo deste relatório é comparar essas duas abordagens em termos de eficiência e compreender como cada uma delas funciona internamente.\n",
        "\n"
      ],
      "metadata": {
        "id": "_Zj-4xThoVca"
      }
    },
    {
      "cell_type": "markdown",
      "source": [
        "# Divide-and-Conquer a Multiplicação"
      ],
      "metadata": {
        "id": "qJkakYVOHJTQ"
      }
    },
    {
      "cell_type": "code",
      "source": [
        "# Importar modulo time\n",
        "import time\n",
        "\n",
        "def mult_int(x, y):\n",
        "    # Converte os inteiros para strings\n",
        "    x_str = str(x)\n",
        "    y_str = str(y)\n",
        "\n",
        "    # Caso base: Se qualquer um dos inteiros tiver apenas um dígito\n",
        "    if len(x_str) == 1 or len(y_str) == 1:\n",
        "        return x * y\n",
        "\n",
        "    # Calcula o ponto médio para dividir os inteiros\n",
        "    n = max(len(x_str), len(y_str))\n",
        "    half_n = n // 2\n",
        "\n",
        "    # Divide os inteiros em partes menores\n",
        "    a = int(x_str[:-half_n] if x_str[:-half_n] else 0)\n",
        "    b = int(x_str[-half_n:])\n",
        "    c = int(y_str[:-half_n] if y_str[:-half_n] else 0)\n",
        "    d = int(y_str[-half_n:])\n",
        "\n",
        "    # Recursivamente multiplica as partes menores\n",
        "    ac = mult_int(a, c)\n",
        "    bd = mult_int(b, d)\n",
        "    ad_bc = mult_int(a + b, c + d) - ac - bd\n",
        "\n",
        "    # Calcula o resultado final\n",
        "    return ac * 10**(2*half_n) + ad_bc * 10**half_n + bd\n",
        "\n",
        "# Exemplo de uso\n",
        "x =  123456789987654321\n",
        "y =  987654321123456789\n",
        "\n",
        "start_time = time.time()\n",
        "result = mult_int(x, y)\n",
        "end_time = time.time()\n",
        "\n",
        "print(f\"Resultado: {x} * {y} = {result}\")\n",
        "print(f\"Tempo de execução: {end_time - start_time} segundos\")"
      ],
      "metadata": {
        "id": "TgcnMhTc6uJ-",
        "colab": {
          "base_uri": "https://localhost:8080/"
        },
        "outputId": "4ef7f191-81df-40db-8d10-c7f343bf8b46"
      },
      "execution_count": 6,
      "outputs": [
        {
          "output_type": "stream",
          "name": "stdout",
          "text": [
            "Resultado: 123456789987654321 * 987654321123456789 = 121932632103337905662094193112635269\n",
            "Tempo de execução: 0.0006072521209716797 segundos\n"
          ]
        }
      ]
    },
    {
      "cell_type": "markdown",
      "source": [
        "No código acima, a função $multi\\_int$ usa a técnica de divisão e conquista para multiplicar dois inteiros grandes $x$ e $y$. Primeiro, os inteiros são convertidos em strings para facilitar a divisão em partes menores. Em seguida, os inteiros são divididos em duas partes menores e o processo é repetido recursivamente até que ambos os inteiros tenham apenas um dígito. Depois, as partes menores são multiplicadas e combinadas para obter o resultado final."
      ],
      "metadata": {
        "id": "PUnYD224I-ns"
      }
    },
    {
      "cell_type": "markdown",
      "source": [
        "$T(n) = 3T(\\frac{n}{2}) + O(n)$\n",
        "\n",
        "O termo $3T(\\frac{n}{2})$ representa as três chamadas recursivas, e $O(n)$ representa o tempo necessário para a conversão de strings e a combinação das soluções.\n",
        "\n",
        "Usando o Teorema Mestre para resolver a recorrência acima, podemos ver que o tempo de execução do algoritmo é $O(n\\log{n})$.\n",
        "\n",
        "Portanto, o tempo de execução do algoritmo de multiplicação usando a técnica de DC é $O(n\\log{n})$, onde $n$ é o número de dígitos dos inteiros $x$ e $y$.\n",
        "\n",
        "Para encontrar uma fórmula fechada para o tempo de execução $T(n)$ usando o método de expansão, podemos expandir a recorrência até encontrar um padrão que nos permite identificar a fórmula geral.\n",
        "\n",
        "A recorrência é:\n",
        "$T(n) = 3T({n}^{2}) + O(n)$\n",
        "\n",
        "Vamos expandir T(n) para alguns valores de n e observar o padrão:\n",
        "\n",
        "1. $T(n)$\n",
        "2. $3T(\\frac{n}{2}) + O(n)$\n",
        "3. $3*[3T(\\frac{n}{4}) + O(\\frac{n}{2})] + O(n)$\n",
        "4. ${3}^{2}*T(\\frac{n}{4}) + 3 * O(\\frac{n}{2}) + O(n)$\n",
        "5. ${3}^{2}*[3T(\\frac{n}{8}) + O(\\frac{n}{4})] + 3 * O(\\frac{n}{2}) + O(n)$\n",
        "6. ${3}^{3}*T(\\frac{n}{8}) + {3}^{2} * O(\\frac{n}{4}) + 3 * O(\\frac{n}{2}) + O(n)$\n",
        "\n",
        "Podemos observar que a expanção segue um padrão em que o fator de multiplicação de $T$ e ${3}^{k}$ é o número de chamadas recursivas. Além disso, o termo $O(n)$ aparece em cada expansão.\n",
        "\n",
        "Podemos generalizar isso para k chamadas recursivas:\n",
        "\n",
        "T(n)= $3^{k}$ * $T(\\frac{n}{2^{k}})$ + $\\sum_{i=0}^{k-1} 3^{i}$ $*$ $O(\\frac{n}{2^{i}})$\n",
        "\n",
        "Quando $\\frac{n}{2^{k}}$ = 1, ou seja, quando $k = \\log_{2}{n}$, temos $T(1)$, que é uma constante.\n",
        "Então, $\\frac{n}{2^{k}} = 1$ implica $k = \\log_{2}{n}$.\n",
        "\n",
        "Substituindo $k = \\log_{2}{n}$ na fórmula acima, obtemos:\n",
        "\n",
        "$T(n) = 3 \\log_{2}{n} * T(1) + \\sum_{i=0}^{\\log_{2}{n-1}}3^{i} * O(\\frac{n}{2^{i}})$\n",
        "\n",
        "Como $T(1)$ é uma constante (digamos c), $3 \\log_{2}{n} = n \\log_{2}{3}$, e a soma converge para $O(n)$.\n",
        "\n",
        "Portanto, a fórmula fechada para $T(n)$ é:\n",
        "\n",
        "$T(n) = O(n\\log_{2}{3})$\n"
      ],
      "metadata": {
        "id": "I_FnHE-QMY66"
      }
    },
    {
      "cell_type": "markdown",
      "source": [
        "# Multiplicação Convencional (Multiplicação do Ensino Fundamental)"
      ],
      "metadata": {
        "id": "rlRzaFaEG96v"
      }
    },
    {
      "cell_type": "code",
      "source": [
        "import time\n",
        "def multiplicar_inteiros(numerosX, numerosY):\n",
        "    numerosZ = numerosX * numerosY\n",
        "    return numerosZ\n",
        "\n",
        "# Exemplo de uso\n",
        "numerosX = 123456789987654321\n",
        "numerosY = 987654321123456789\n",
        "\n",
        "# Medindo o tempo de execução\n",
        "start_time = time.time()\n",
        "numerosR = multiplicar_inteiros(numerosX, numerosY)\n",
        "end_time = time.time()\n",
        "\n",
        "# Imprimindo o resultado e o tempo de execução\n",
        "print(f\"Resultado: {numerosX} * {numerosY} = {numerosR}\")\n",
        "print(f\"Tempo de execução: {end_time - start_time} segundos\")"
      ],
      "metadata": {
        "colab": {
          "base_uri": "https://localhost:8080/"
        },
        "id": "V7JJjhhbG-5T",
        "outputId": "49c9bb7c-88e1-49ad-bef2-d6b99cbc59ab"
      },
      "execution_count": 3,
      "outputs": [
        {
          "output_type": "stream",
          "name": "stdout",
          "text": [
            "Resultado: 123456789987654321 * 987654321123456789 = 121932632103337905662094193112635269\n",
            "Tempo de execução: 8.511543273925781e-05 segundos\n"
          ]
        }
      ]
    },
    {
      "cell_type": "code",
      "source": [
        "import time\n",
        "\n",
        "def multiplicar_inteiros(numX, numY):\n",
        "    # Convertendo inteiros para strings para iterar sobre os dígitos\n",
        "    strX = str(numX)\n",
        "    strY = str(numY)\n",
        "\n",
        "    # Inicializando a lista para armazenar os produtos parciais\n",
        "    produtos_parciais = [0] * (len(strX) + len(strY))\n",
        "\n",
        "    # Multiplicação ingênua usando duas iterações aninhadas\n",
        "    for i in range(len(strX)):\n",
        "        for j in range(len(strY)):\n",
        "            produtos_parciais[i + j] += int(strX[i]) * int(strY[j])\n",
        "\n",
        "    # Realizando a soma dos produtos parciais\n",
        "    for i in range(len(produtos_parciais) - 1, 0, -1):\n",
        "        produtos_parciais[i - 1] += produtos_parciais[i] // 10\n",
        "        produtos_parciais[i] %= 10\n",
        "\n",
        "    # Convertendo a lista de inteiros para um número inteiro\n",
        "    numZ = int(\"\".join(map(str, produtos_parciais)))\n",
        "\n",
        "    return numZ\n",
        "\n",
        "# Exemplo de uso\n",
        "numX = 123456789987654321\n",
        "numY = 987654321123456789\n",
        "\n",
        "# Medindo o tempo de execução\n",
        "start_time = time.time()\n",
        "numR = multiplicar_inteiros(numX, numY)\n",
        "end_time = time.time()\n",
        "\n",
        "# Imprimindo o resultado e o tempo de execução\n",
        "print(f\"Resultado: {numX} * {numY} = {numR}\")\n",
        "print(f\"Tempo de execução: {end_time - start_time} segundos\")"
      ],
      "metadata": {
        "colab": {
          "base_uri": "https://localhost:8080/"
        },
        "id": "lkgGSsq6PfWv",
        "outputId": "f3b95b6a-1776-4612-9757-b403e5e074e4"
      },
      "execution_count": 5,
      "outputs": [
        {
          "output_type": "stream",
          "name": "stdout",
          "text": [
            "Resultado: 123456789987654321 * 987654321123456789 = 1219326321033379056620941931126352690\n",
            "Tempo de execução: 0.0003790855407714844 segundos\n"
          ]
        }
      ]
    }
  ]
}